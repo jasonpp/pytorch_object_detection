{
 "cells": [
  {
   "cell_type": "code",
   "execution_count": 1,
   "id": "initial_id",
   "metadata": {
    "collapsed": true,
    "ExecuteTime": {
     "end_time": "2023-08-29T08:32:02.273349100Z",
     "start_time": "2023-08-29T08:32:01.419314200Z"
    }
   },
   "outputs": [],
   "source": [
    "from torch import  nn\n"
   ]
  },
  {
   "cell_type": "markdown",
   "source": [
    "## 3.1.1 卷积层\n",
    "- 计算过程\n",
    "    - 书上的是滑动step后每个元素进行相乘\n",
    "    - pytorch中是非常简单的\n"
   ],
   "metadata": {
    "collapsed": false
   },
   "id": "902bc9a852999579"
  },
  {
   "cell_type": "code",
   "execution_count": 2,
   "outputs": [
    {
     "data": {
      "text/plain": "Conv2d(1, 1, kernel_size=(3, 3), stride=(1, 1), padding=(1, 1))"
     },
     "execution_count": 2,
     "metadata": {},
     "output_type": "execute_result"
    }
   ],
   "source": [
    "# 快速搭建卷积层\n",
    "conv = nn.Conv2d(in_channels=1,out_channels=1,kernel_size=3,stride=1,padding=1,dilation=1,groups=1,bias=True)  \n",
    "\n",
    "# 查看卷积核的基本信息，本质上是一个Module\n",
    "conv\n"
   ],
   "metadata": {
    "collapsed": false,
    "ExecuteTime": {
     "end_time": "2023-08-29T08:36:16.359692900Z",
     "start_time": "2023-08-29T08:36:16.316693100Z"
    }
   },
   "id": "a9269f532efcf024"
  },
  {
   "cell_type": "code",
   "execution_count": 3,
   "outputs": [
    {
     "data": {
      "text/plain": "Parameter containing:\ntensor([[[[ 0.0377,  0.2636, -0.2682],\n          [-0.1179,  0.3013,  0.2442],\n          [ 0.3137, -0.0469, -0.1935]]]], requires_grad=True)"
     },
     "execution_count": 3,
     "metadata": {},
     "output_type": "execute_result"
    }
   ],
   "source": [
    "# 通过.weight和.bias查看卷积核的权重和偏置\n",
    "conv.weight"
   ],
   "metadata": {
    "collapsed": false,
    "ExecuteTime": {
     "end_time": "2023-08-29T08:37:09.745436900Z",
     "start_time": "2023-08-29T08:37:09.690437400Z"
    }
   },
   "id": "cbaeae5038fb5038"
  }
 ],
 "metadata": {
  "kernelspec": {
   "display_name": "Python 3",
   "language": "python",
   "name": "python3"
  },
  "language_info": {
   "codemirror_mode": {
    "name": "ipython",
    "version": 2
   },
   "file_extension": ".py",
   "mimetype": "text/x-python",
   "name": "python",
   "nbconvert_exporter": "python",
   "pygments_lexer": "ipython2",
   "version": "2.7.6"
  }
 },
 "nbformat": 4,
 "nbformat_minor": 5
}
