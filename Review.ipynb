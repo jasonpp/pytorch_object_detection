{
 "cells": [
  {
   "cell_type": "code",
   "execution_count": 1,
   "id": "initial_id",
   "metadata": {
    "collapsed": true,
    "ExecuteTime": {
     "end_time": "2023-08-29T02:20:48.745497800Z",
     "start_time": "2023-08-29T02:20:46.769374200Z"
    }
   },
   "outputs": [],
   "source": [
    "from torch import  nn\n",
    "import torch\n",
    "from torch import optim\n",
    "from mlp import MLP"
   ]
  },
  {
   "cell_type": "markdown",
   "source": [
    "### nn.Model 类"
   ],
   "metadata": {
    "collapsed": false
   },
   "id": "50b240ff2961dfff"
  },
  {
   "cell_type": "code",
   "execution_count": 2,
   "outputs": [],
   "source": [
    "from perception_sequential import Perception\n"
   ],
   "metadata": {
    "collapsed": false,
    "ExecuteTime": {
     "end_time": "2023-08-29T02:22:19.910127300Z",
     "start_time": "2023-08-29T02:22:19.899128200Z"
    }
   },
   "id": "6d92d298c1fe9054"
  },
  {
   "cell_type": "code",
   "execution_count": 3,
   "outputs": [
    {
     "data": {
      "text/plain": "Perception(\n  (layer): Sequential(\n    (0): Linear(in_features=100, out_features=10000, bias=True)\n    (1): Sigmoid()\n    (2): Linear(in_features=10000, out_features=10, bias=True)\n    (3): Sigmoid()\n  )\n)"
     },
     "execution_count": 3,
     "metadata": {},
     "output_type": "execute_result"
    }
   ],
   "source": [
    "model = Perception(100,10000,10).cuda()\n",
    "model\n"
   ],
   "metadata": {
    "collapsed": false,
    "ExecuteTime": {
     "end_time": "2023-08-29T02:27:01.387032200Z",
     "start_time": "2023-08-29T02:27:01.232030500Z"
    }
   },
   "id": "38ecee20ac41a732"
  },
  {
   "cell_type": "code",
   "execution_count": 4,
   "outputs": [
    {
     "data": {
      "text/plain": "torch.Size([10])"
     },
     "execution_count": 4,
     "metadata": {},
     "output_type": "execute_result"
    }
   ],
   "source": [
    "input = torch.randn(100).cuda()\n",
    "output = model(input)\n",
    "output.shape"
   ],
   "metadata": {
    "collapsed": false,
    "ExecuteTime": {
     "end_time": "2023-08-29T02:27:46.350442800Z",
     "start_time": "2023-08-29T02:27:42.878455200Z"
    }
   },
   "id": "bacbb70f6fad9aa8"
  },
  {
   "cell_type": "markdown",
   "source": [
    "### 模型处理\n",
    "- 网络模型库： torchvision.models (包含以下经典的网络结构和预训练模型）\n",
    "    - VGG\n",
    "    - ResNet\n",
    "    - Inception 等"
   ],
   "metadata": {
    "collapsed": false
   },
   "id": "fb421416c6b083f4"
  },
  {
   "cell_type": "code",
   "execution_count": null,
   "outputs": [],
   "source": [],
   "metadata": {
    "collapsed": false
   },
   "id": "6946393e3d673aaa"
  }
 ],
 "metadata": {
  "kernelspec": {
   "display_name": "Python 3",
   "language": "python",
   "name": "python3"
  },
  "language_info": {
   "codemirror_mode": {
    "name": "ipython",
    "version": 2
   },
   "file_extension": ".py",
   "mimetype": "text/x-python",
   "name": "python",
   "nbconvert_exporter": "python",
   "pygments_lexer": "ipython2",
   "version": "2.7.6"
  }
 },
 "nbformat": 4,
 "nbformat_minor": 5
}
