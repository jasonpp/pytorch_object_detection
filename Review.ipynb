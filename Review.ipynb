{
 "cells": [
  {
   "cell_type": "code",
   "execution_count": 1,
   "id": "initial_id",
   "metadata": {
    "collapsed": true,
    "ExecuteTime": {
     "end_time": "2023-08-29T02:20:48.745497800Z",
     "start_time": "2023-08-29T02:20:46.769374200Z"
    }
   },
   "outputs": [],
   "source": [
    "from torch import  nn\n",
    "import torch\n",
    "from torch import optim\n",
    "from mlp import MLP"
   ]
  },
  {
   "cell_type": "markdown",
   "source": [
    "### nn.Model 类"
   ],
   "metadata": {
    "collapsed": false
   },
   "id": "50b240ff2961dfff"
  },
  {
   "cell_type": "code",
   "execution_count": 2,
   "outputs": [],
   "source": [
    "from perception_sequential import Perception\n"
   ],
   "metadata": {
    "collapsed": false,
    "ExecuteTime": {
     "end_time": "2023-08-29T02:22:19.910127300Z",
     "start_time": "2023-08-29T02:22:19.899128200Z"
    }
   },
   "id": "6d92d298c1fe9054"
  },
  {
   "cell_type": "code",
   "execution_count": 3,
   "outputs": [
    {
     "data": {
      "text/plain": "Perception(\n  (layer): Sequential(\n    (0): Linear(in_features=100, out_features=10000, bias=True)\n    (1): Sigmoid()\n    (2): Linear(in_features=10000, out_features=10, bias=True)\n    (3): Sigmoid()\n  )\n)"
     },
     "execution_count": 3,
     "metadata": {},
     "output_type": "execute_result"
    }
   ],
   "source": [
    "model = Perception(100,10000,10).cuda()\n",
    "model\n"
   ],
   "metadata": {
    "collapsed": false,
    "ExecuteTime": {
     "end_time": "2023-08-29T02:27:01.387032200Z",
     "start_time": "2023-08-29T02:27:01.232030500Z"
    }
   },
   "id": "38ecee20ac41a732"
  },
  {
   "cell_type": "code",
   "execution_count": 4,
   "outputs": [
    {
     "data": {
      "text/plain": "torch.Size([10])"
     },
     "execution_count": 4,
     "metadata": {},
     "output_type": "execute_result"
    }
   ],
   "source": [
    "input = torch.randn(100).cuda()\n",
    "output = model(input)\n",
    "output.shape"
   ],
   "metadata": {
    "collapsed": false,
    "ExecuteTime": {
     "end_time": "2023-08-29T02:27:46.350442800Z",
     "start_time": "2023-08-29T02:27:42.878455200Z"
    }
   },
   "id": "bacbb70f6fad9aa8"
  },
  {
   "cell_type": "markdown",
   "source": [
    "## 模型处理\n",
    "- 2.4.1 网络模型库： torchvision.models (包含以下经典的网络结构和预训练模型）\n",
    "    - VGG\n",
    "    - ResNet\n",
    "    - Inception 等"
   ],
   "metadata": {
    "collapsed": false
   },
   "id": "fb421416c6b083f4"
  },
  {
   "cell_type": "code",
   "execution_count": 6,
   "outputs": [
    {
     "data": {
      "text/plain": "31"
     },
     "execution_count": 6,
     "metadata": {},
     "output_type": "execute_result"
    }
   ],
   "source": [
    "from torch import nn\n",
    "from torchvision import models\n",
    "\n",
    "# 通过torchvision.model 直接调用VGG16的网络结构\n",
    "vgg = models.vgg16()\n",
    "# VGG16 的特征层包含13个卷积、13个激活函数ReLu，5个池化，一共31层.注意：这个是特征层\n",
    "len(vgg.features)"
   ],
   "metadata": {
    "collapsed": false,
    "ExecuteTime": {
     "end_time": "2023-08-29T02:35:22.624185200Z",
     "start_time": "2023-08-29T02:35:21.831456400Z"
    }
   },
   "id": "6946393e3d673aaa"
  },
  {
   "cell_type": "code",
   "execution_count": 9,
   "outputs": [
    {
     "data": {
      "text/plain": "7"
     },
     "execution_count": 9,
     "metadata": {},
     "output_type": "execute_result"
    }
   ],
   "source": [
    "# VGG16d 包含3个全连接、2个ReLU、2个Dropout，一共7层\n",
    "len(vgg.classifier)"
   ],
   "metadata": {
    "collapsed": false,
    "ExecuteTime": {
     "end_time": "2023-08-29T02:45:16.670567300Z",
     "start_time": "2023-08-29T02:45:16.651484500Z"
    }
   },
   "id": "b75b1bc017766a2b"
  },
  {
   "cell_type": "code",
   "execution_count": 10,
   "outputs": [
    {
     "data": {
      "text/plain": "Linear(in_features=4096, out_features=1000, bias=True)"
     },
     "execution_count": 10,
     "metadata": {},
     "output_type": "execute_result"
    }
   ],
   "source": [
    "# 可以通过出现的顺序直接索引每一层\n",
    "vgg.classifier[-1]"
   ],
   "metadata": {
    "collapsed": false,
    "ExecuteTime": {
     "end_time": "2023-08-29T02:45:59.610768700Z",
     "start_time": "2023-08-29T02:45:59.602768200Z"
    }
   },
   "id": "48bc3c0c2cec5369"
  },
  {
   "cell_type": "code",
   "execution_count": 13,
   "outputs": [
    {
     "data": {
      "text/plain": "Sequential(\n  (24): Conv2d(512, 512, kernel_size=(3, 3), stride=(1, 1), padding=(1, 1))\n  (25): ReLU(inplace=True)\n  (26): Conv2d(512, 512, kernel_size=(3, 3), stride=(1, 1), padding=(1, 1))\n  (27): ReLU(inplace=True)\n  (28): Conv2d(512, 512, kernel_size=(3, 3), stride=(1, 1), padding=(1, 1))\n  (29): ReLU(inplace=True)\n  (30): MaxPool2d(kernel_size=2, stride=2, padding=0, dilation=1, ceil_mode=False)\n)"
     },
     "execution_count": 13,
     "metadata": {},
     "output_type": "execute_result"
    }
   ],
   "source": [
    "# 也可以选取某一部分，如下代表了特征网络的最后一个卷积模组\n",
    "vgg.features[24:]"
   ],
   "metadata": {
    "collapsed": false,
    "ExecuteTime": {
     "end_time": "2023-08-29T03:05:21.452495Z",
     "start_time": "2023-08-29T03:05:21.423457800Z"
    }
   },
   "id": "f733172b8e92823c"
  },
  {
   "cell_type": "markdown",
   "source": [
    "### 2.4.2 加载预训练模型\n",
    "- 预训练模型的来因：\n",
    "    - 对于计算机视觉的任务，包括物体检测，我们通常很难拿到很大的数据集，在这种情况下重新训练一个新的模型是比较复杂的，并且不容易调整\n",
    "    - 因此，Fine-tune（微调）是一个常用的选择。所谓Fine-tune是指利用别人在一些数据集上训练好的预训练模型，在自己的数据集上训练自己的模型。"
   ],
   "metadata": {
    "collapsed": false
   },
   "id": "7088750cf68519fb"
  },
  {
   "cell_type": "code",
   "execution_count": null,
   "outputs": [],
   "source": [
    "# 具体代码\n",
    "# 第一种： 直接调用别人的预训练模型\n",
    "vgg = models.vgg16(pretrained=True) # 通过torchvision.vgg16 直接叼用VGG16的网络结构\n",
    "\n",
    "# 第二种： 叼用自己的本地预训练模型，或是之前训练过的模型\n",
    "vgg = models.vgg16()\n",
    "state_dict = torch.load(\"Your model path\")\n",
    "# 利用load_state_dict,遍历训练模型的关键字，如果出现在了VGG中，则加载预训练参数\n",
    "# vgg.load_state_dict({k:v for k, v in state_dict_items() if k in vgg.state_dict()})\n",
    "\n",
    "# \n",
    "# 通常来讲，对于不同的检测任务，卷积网络的前两三层的作用是非常类似的，都是提取图像的边缘信息等，因此为了保证模型训练中能够更加稳定，一般会固定预训练网络的前两三个卷积层而不进行参数的学习。例如VGG模型，可以设置前三个卷积模组不进行参数学习，设置方式如下：\n",
    "# 这里对应的10就包含了前面3个卷积层\n",
    "# for layer in range(10):\n",
    "#     for p in vgg[layer].parameters():\n",
    "#         p.requires_grad = False"
   ],
   "metadata": {
    "collapsed": false
   },
   "id": "630170b64e463b0a"
  },
  {
   "cell_type": "markdown",
   "source": [
    "### 2.4.3 模型保存\n",
    "- 代码仅作为说明，不能用于运行\n"
   ],
   "metadata": {
    "collapsed": false
   },
   "id": "b84ef021c7a9bb2f"
  },
  {
   "cell_type": "code",
   "execution_count": 1,
   "outputs": [],
   "source": [
    "# torch.save({\n",
    "#     'model' : model.state_dict(),\n",
    "#     'optimizer:' : optimizer.state_dict(),\n",
    "#     'model_path' : \"Your model path\"\n",
    "# })"
   ],
   "metadata": {
    "collapsed": false,
    "ExecuteTime": {
     "end_time": "2023-08-29T03:11:06.709109400Z",
     "start_time": "2023-08-29T03:11:06.684451800Z"
    }
   },
   "id": "7a705532739fe439"
  },
  {
   "cell_type": "markdown",
   "source": [
    "## 2.5 数据处理"
   ],
   "metadata": {
    "collapsed": false
   },
   "id": "28117cde02cbdb07"
  },
  {
   "cell_type": "code",
   "execution_count": null,
   "outputs": [],
   "source": [],
   "metadata": {
    "collapsed": false
   },
   "id": "f147a34d521d82ec"
  }
 ],
 "metadata": {
  "kernelspec": {
   "display_name": "Python 3",
   "language": "python",
   "name": "python3"
  },
  "language_info": {
   "codemirror_mode": {
    "name": "ipython",
    "version": 2
   },
   "file_extension": ".py",
   "mimetype": "text/x-python",
   "name": "python",
   "nbconvert_exporter": "python",
   "pygments_lexer": "ipython2",
   "version": "2.7.6"
  }
 },
 "nbformat": 4,
 "nbformat_minor": 5
}
