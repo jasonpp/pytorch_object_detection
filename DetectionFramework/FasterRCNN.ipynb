{
 "cells": [
  {
   "cell_type": "markdown",
   "source": [
    "## 两阶经典检测器：Faster RCNN（Regions with CNN Features)\n",
    "- RCNN将深度学习应用到物体检测领域的经典,后续的优化版本有：\n",
    "    - Fast RCNN\n",
    "    - Faster RCNN\n",
    "- 其他检测器： 单阶多层检测器 SSD, 单阶经典检测器： YOLO\n",
    "- RCNN:\n",
    "    - RCNN进行物体检测的步骤：\n",
    "        - 1） 候选区域生成，图像分割成小区域，然后合并包含同一物体可能性高的区域并输出，大约提取约2000个候选区域，还要将每一个区域做归一化处理，得到固定大小的图像\n",
    "        - 2） CNN特征提取。将上述固定大小的图像，利用CNN网络得到固定维度的特征输出。\n",
    "        - 3） SVM分类器。使用线性二分类器对输出的特征进行分类，得到是否属于此类的结果，并采用难样本挖掘来平衡正负样本的不平衡。\n",
    "        - 4） 位置精修。通过一个回归器，对特征进行边界回归以得到更为精确的目标区域。\n",
    "    - 缺点：\n",
    "        - 需要多步训练，步骤繁琐且训练较慢\n",
    "        - 涉及分类中的全连接网络，因此输入尺寸是固定的，造成了精度的降低\n",
    "        - 候选区域需要提前提取并保存，占用空间较大\n",
    "- Fast RCNN:\n",
    "    - 优点：训练步骤可以实现端到端，算法基于VGG16网络，提高了9倍于RCNN的训练速度，测试速度提高了213倍，检测精度也提高了\n",
    "    - 主要改进：\n",
    "        - 共享卷积：将整幅图送到卷积网络中进行区域生成，而不是像RCNN那样一个个的候选区域，虽然仍采用Selective Search方法，但共享卷积的优点使得计算量大大减少。\n",
    "        - RoI Pooling：利用特征池化（RoI Pooling）的方法进行特征尺度变换，这种方法可以有任意大小图片的输入，使得训练过程更加灵活、准确。\n",
    "        - 多任务损失：将分类与回归网络放到一起训练，并且为了避免SVM分类器带来的单独训练与速度慢的缺点，使用了Softmax函数进行分类。     \n",
    "    - 缺点：\n",
    "        - Selective Search需要消耗2~3秒，而特征提取仅需要0.2秒。所以这种区域生成方法限制了Fast RCNN的发挥空间，这也为后续 Faster CNN \n",
    "        指明了改进方向\n",
    "- Faster RCNN(走向实时):\n",
    "    - 突破：NIPS 2015 提出了RPN(Region Proposal Network）网络，利用Anchor机制将区域生成与卷积网络联系到一起，将检测速度提升到17 \n",
    "    FPS(Frames Per Second)\n",
    "      \n",
    "            \n"
   ],
   "metadata": {
    "collapsed": false
   },
   "id": "413fdd111593c121"
  },
  {
   "cell_type": "code",
   "execution_count": null,
   "outputs": [],
   "source": [
    "# Coding Practice\n"
   ],
   "metadata": {
    "collapsed": false
   },
   "id": "2937eaec4779a7f7"
  }
 ],
 "metadata": {
  "kernelspec": {
   "display_name": "Python 3",
   "language": "python",
   "name": "python3"
  },
  "language_info": {
   "codemirror_mode": {
    "name": "ipython",
    "version": 2
   },
   "file_extension": ".py",
   "mimetype": "text/x-python",
   "name": "python",
   "nbconvert_exporter": "python",
   "pygments_lexer": "ipython2",
   "version": "2.7.6"
  }
 },
 "nbformat": 4,
 "nbformat_minor": 5
}
