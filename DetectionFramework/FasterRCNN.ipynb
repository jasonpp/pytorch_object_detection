{
 "cells": [
  {
   "cell_type": "markdown",
   "source": [
    "## 两阶经典检测器：Faster RCNN\n",
    "- 其他检测器： 单阶多层检测器 SSD, 单阶经典检测器： YOLO\n",
    "\n"
   ],
   "metadata": {
    "collapsed": false
   },
   "id": "413fdd111593c121"
  }
 ],
 "metadata": {
  "kernelspec": {
   "display_name": "Python 3",
   "language": "python",
   "name": "python3"
  },
  "language_info": {
   "codemirror_mode": {
    "name": "ipython",
    "version": 2
   },
   "file_extension": ".py",
   "mimetype": "text/x-python",
   "name": "python",
   "nbconvert_exporter": "python",
   "pygments_lexer": "ipython2",
   "version": "2.7.6"
  }
 },
 "nbformat": 4,
 "nbformat_minor": 5
}
